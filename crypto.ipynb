{
 "cells": [
  {
   "cell_type": "markdown",
   "id": "63f67e28",
   "metadata": {},
   "source": [
    "#Importing Packages"
   ]
  },
  {
   "cell_type": "code",
   "execution_count": 4,
   "id": "79f6f850",
   "metadata": {},
   "outputs": [],
   "source": [
    "import numpy as np\n",
    "import pandas as pd\n",
    "import matplotlib.pyplot as plt\n",
    "import pandas_datareader as web\n",
    "import datetime as dt \n",
    "import tensorflow as tf\n",
    "import sklearn\n",
    "\n",
    "from sklearn.preprocessing import MinMaxScaler\n",
    "from tensorflow.keras.layers import Dense,Dropout,LSTM\n",
    "from tensorflow.keras.models import Sequential "
   ]
  },
  {
   "cell_type": "code",
   "execution_count": 5,
   "id": "7871c1b9",
   "metadata": {},
   "outputs": [],
   "source": [
    "crypto_currency = 'BTC' \n",
    "against_currency = 'USD'"
   ]
  },
  {
   "cell_type": "code",
   "execution_count": 6,
   "id": "20ef359b",
   "metadata": {},
   "outputs": [],
   "source": [
    "start = dt.datetime(2016,1,1)\n",
    "end = dt.datetime.now()"
   ]
  },
  {
   "cell_type": "code",
   "execution_count": 7,
   "id": "5df8f9a8",
   "metadata": {},
   "outputs": [],
   "source": [
    "data = web.DataReader(f'{crypto_currency}-{against_currency}','yahoo',start,end)"
   ]
  },
  {
   "cell_type": "markdown",
   "id": "c20db086",
   "metadata": {},
   "source": [
    "#Preparing data for training"
   ]
  },
  {
   "cell_type": "code",
   "execution_count": 8,
   "id": "277e3771",
   "metadata": {},
   "outputs": [],
   "source": [
    "scaler = MinMaxScaler(feature_range=(0,1))\n",
    "scaled_data = scaler.fit_transform(data['Close'].values.reshape(-1,1))\n",
    "\n",
    "prediction_days = 60\n",
    "\n",
    "x_train,y_train = [],[]\n",
    "\n",
    "for x in range(prediction_days, len(scaled_data)):\n",
    "    x_train.append(scaled_data[x-prediction_days: x,0])\n",
    "    y_train.append(scaled_data[x,0])\n",
    "    \n",
    "x_train,y_train = np.array(x_train),np.array(y_train)\n",
    "x_train = np.reshape(x_train, (x_train.shape[0], x_train.shape[1], 1))"
   ]
  },
  {
   "cell_type": "markdown",
   "id": "dc0b4c8e",
   "metadata": {},
   "source": [
    "#creating the neural network"
   ]
  },
  {
   "cell_type": "code",
   "execution_count": 9,
   "id": "02e919c4",
   "metadata": {},
   "outputs": [
    {
     "name": "stderr",
     "output_type": "stream",
     "text": [
      "2021-12-27 22:00:37.145844: I tensorflow/core/platform/cpu_feature_guard.cc:145] This TensorFlow binary is optimized with Intel(R) MKL-DNN to use the following CPU instructions in performance critical operations:  SSE4.1 SSE4.2\n",
      "To enable them in non-MKL-DNN operations, rebuild TensorFlow with the appropriate compiler flags.\n",
      "2021-12-27 22:00:37.147291: I tensorflow/core/common_runtime/process_util.cc:115] Creating new thread pool with default inter op setting: 8. Tune using inter_op_parallelism_threads for best performance.\n"
     ]
    },
    {
     "name": "stdout",
     "output_type": "stream",
     "text": [
      "Train on 1450 samples\n",
      "Epoch 1/25\n"
     ]
    },
    {
     "name": "stderr",
     "output_type": "stream",
     "text": [
      "2021-12-27 22:00:40.156868: W tensorflow/core/grappler/optimizers/implementation_selector.cc:310] Skipping optimization due to error while loading function libraries: Invalid argument: Functions '__inference___backward_standard_lstm_6859_7344' and '__inference___backward_standard_lstm_6859_7344_specialized_for_StatefulPartitionedCall_at___inference_distributed_function_8537' both implement 'lstm_d46d8dbf-1666-40c5-8110-6e3f1e29f26c' but their signatures do not match.\n"
     ]
    },
    {
     "name": "stdout",
     "output_type": "stream",
     "text": [
      "1450/1450 [==============================] - 20s 14ms/sample - loss: 0.0180\n",
      "Epoch 2/25\n",
      "1450/1450 [==============================] - 15s 10ms/sample - loss: 0.0034\n",
      "Epoch 3/25\n",
      "1450/1450 [==============================] - 14s 10ms/sample - loss: 0.0030\n",
      "Epoch 4/25\n",
      "1450/1450 [==============================] - 15s 10ms/sample - loss: 0.0032\n",
      "Epoch 5/25\n",
      "1450/1450 [==============================] - 15s 10ms/sample - loss: 0.0026\n",
      "Epoch 6/25\n",
      "1450/1450 [==============================] - 15s 10ms/sample - loss: 0.0032\n",
      "Epoch 7/25\n",
      "1450/1450 [==============================] - 15s 10ms/sample - loss: 0.0026\n",
      "Epoch 8/25\n",
      "1450/1450 [==============================] - 14s 10ms/sample - loss: 0.0027\n",
      "Epoch 9/25\n",
      "1450/1450 [==============================] - 14s 10ms/sample - loss: 0.0024\n",
      "Epoch 10/25\n",
      "1450/1450 [==============================] - 15s 10ms/sample - loss: 0.0025\n",
      "Epoch 11/25\n",
      "1450/1450 [==============================] - 16s 11ms/sample - loss: 0.0026\n",
      "Epoch 12/25\n",
      "1450/1450 [==============================] - 14s 10ms/sample - loss: 0.0019\n",
      "Epoch 13/25\n",
      "1450/1450 [==============================] - 16s 11ms/sample - loss: 0.0021\n",
      "Epoch 14/25\n",
      "1450/1450 [==============================] - 15s 10ms/sample - loss: 0.0022\n",
      "Epoch 15/25\n",
      "1450/1450 [==============================] - 14s 10ms/sample - loss: 0.0018\n",
      "Epoch 16/25\n",
      "1450/1450 [==============================] - 14s 10ms/sample - loss: 0.0023\n",
      "Epoch 17/25\n",
      "1450/1450 [==============================] - 15s 10ms/sample - loss: 0.0019\n",
      "Epoch 18/25\n",
      "1450/1450 [==============================] - 14s 10ms/sample - loss: 0.0019\n",
      "Epoch 19/25\n",
      "1450/1450 [==============================] - 15s 10ms/sample - loss: 0.0019\n",
      "Epoch 20/25\n",
      "1450/1450 [==============================] - 14s 10ms/sample - loss: 0.0020\n",
      "Epoch 21/25\n",
      "1450/1450 [==============================] - 14s 10ms/sample - loss: 0.0018\n",
      "Epoch 22/25\n",
      "1450/1450 [==============================] - 14s 10ms/sample - loss: 0.0016\n",
      "Epoch 23/25\n",
      "1450/1450 [==============================] - 15s 10ms/sample - loss: 0.0018\n",
      "Epoch 24/25\n",
      "1450/1450 [==============================] - 15s 10ms/sample - loss: 0.0017\n",
      "Epoch 25/25\n",
      "1450/1450 [==============================] - 14s 10ms/sample - loss: 0.0017\n"
     ]
    },
    {
     "data": {
      "text/plain": [
       "<tensorflow.python.keras.callbacks.History at 0x7fb48e875f10>"
      ]
     },
     "execution_count": 9,
     "metadata": {},
     "output_type": "execute_result"
    }
   ],
   "source": [
    "model = Sequential()\n",
    "\n",
    "\n",
    "model.add(LSTM(units=50, return_sequences= True, input_shape=(x_train.shape[1],1)))\n",
    "model.add(Dropout(0.2))\n",
    "model.add(LSTM(units=50, return_sequences= True))\n",
    "model.add(Dropout(0.2))\n",
    "model.add(LSTM(units=50))\n",
    "model.add(Dropout(0.2))\n",
    "model.add(Dense(units=1))\n",
    "\n",
    "\n",
    "model.compile(optimizer='adam', loss='mean_squared_error')\n",
    "\n",
    "\n",
    "model.fit(x_train,y_train,epochs=25,batch_size=32)"
   ]
  },
  {
   "cell_type": "markdown",
   "id": "b6978abd",
   "metadata": {},
   "source": [
    "#Testing the model"
   ]
  },
  {
   "cell_type": "code",
   "execution_count": 20,
   "id": "3e8ee15b",
   "metadata": {},
   "outputs": [
    {
     "data": {
      "image/png": "[encoded data removed]",
      "text/plain": [
       "<Figure size 432x288 with 1 Axes>"
      ]
     },
     "metadata": {
      "needs_background": "light"
     },
     "output_type": "display_data"
    }
   ],
   "source": [
    "test_start = dt.datetime(2020,1,1)\n",
    "test_end = dt.datetime.now()\n",
    "\n",
    "test_data = web.DataReader(f'{crypto_currency}-{against_currency}', 'yahoo', test_start,test_end)\n",
    "actual_prices = test_data['Close'].values\n",
    "total_dataset = pd.concat((data['Close'],test_data['Close']),axis = 0)\n",
    "\n",
    "model_inputs = total_dataset[len(total_dataset)-len(test_data)-prediction_days:].values\n",
    "model_inputs = model_inputs.reshape(-1,1)\n",
    "model_inputs = scaler.fit_transform(model_inputs)\n",
    "\n",
    "\n",
    "x_test = []\n",
    "\n",
    "for x in range(prediction_days,len(model_inputs)):\n",
    "    x_test.append(model_inputs[x-prediction_days:x,0])\n",
    "    \n",
    "x_test = np.array(x_test)\n",
    "x_test = np.reshape(x_test,(x_test.shape[0],x_test.shape[1],1))\n",
    "\n",
    "prediction_prices = model.predict(x_test)\n",
    "prediction_prices = scaler.inverse_transform(prediction_prices)\n",
    "\n",
    "\n",
    "plt.plot(actual_prices,color='black',label = 'Actual Prices')\n",
    "plt.plot(prediction_prices,color='green',label = 'Predicted Prices')\n",
    "plt.title(f'{crypto_currency} price prediction')\n",
    "plt.xlabel('Time')\n",
    "plt.ylabel(f'Price in {against_currency}')\n",
    "plt.legend(loc='upper left')\n",
    "plt.show()"
   ]
  },
  {
   "cell_type": "code",
   "execution_count": null,
   "id": "cf6ab8a8",
   "metadata": {},
   "outputs": [],
   "source": []
  }
 ],
 "metadata": {
  "kernelspec": {
   "display_name": "Python 3 (ipykernel)",
   "language": "python",
   "name": "python3"
  },
  "language_info": {
   "codemirror_mode": {
    "name": "ipython",
    "version": 3
   },
   "file_extension": ".py",
   "mimetype": "text/x-python",
   "name": "python",
   "nbconvert_exporter": "python",
   "pygments_lexer": "ipython3",
   "version": "3.8.13"
  }
 },
 "nbformat": 4,
 "nbformat_minor": 5
}
